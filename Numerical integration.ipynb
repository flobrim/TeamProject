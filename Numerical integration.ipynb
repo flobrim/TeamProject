{
 "cells": [
  {
   "cell_type": "markdown",
   "id": "2a721506-ab30-4bb2-8c7f-49f43d7f67b3",
   "metadata": {},
   "source": [
    "# Plan for code: \n",
    "\n",
    "1) Read in Current data from picoscope\n",
    "2) Read in voltage data from picoscope\n",
    "3) Integrate voltage data\n",
    "4) Scale the current data to achieve magnetic filed intensity: H = NI/L\n",
    "5) Scale the voltage data to achieve magnetic field strength: B = (integral of voltage)/NA\n",
    "6) Plot a graph of B against H\n",
    "7) Calculate the area between this curve. This will be the total core loss.\n",
    "8) Subtract the total core losses from the 50Hz data from other core loss data to achieve eddy current loss for the higher frequencies."
   ]
  },
  {
   "cell_type": "code",
   "execution_count": 10,
   "id": "6fe70bfc-79f8-4508-a8f2-fbb3114c7077",
   "metadata": {},
   "outputs": [],
   "source": [
    "# import necessary libraries \n",
    "import numpy as np\n",
    "import pandas as pd\n",
    "from scipy.integrate import cumulative_trapezoid\n",
    "import matplotlib.pyplot as plt"
   ]
  },
  {
   "cell_type": "code",
   "execution_count": 14,
   "id": "b9113483-c5d5-4a20-890f-c458f7192fe5",
   "metadata": {},
   "outputs": [],
   "source": [
    "# Read in the current and voltage files \n",
    "# current_df = pd.read_csv('')\n",
    "# voltage_df = pd.read_csv('')\n",
    "frequency = 50"
   ]
  },
  {
   "cell_type": "code",
   "execution_count": 16,
   "id": "30c4eeab-d6f4-475b-9534-a7dc82b8df2a",
   "metadata": {},
   "outputs": [],
   "source": [
    "# Integrate secondary voltage with respect to time\n",
    "\n",
    "# Convert the voltage data from the secondary coil to the primary:\n",
    "# A = \n",
    "N1 = 1\n",
    "N2 = 1\n",
    "#V1 = V2 * (N1/N2)\n",
    "\n",
    "# Convert the voltage data to flux density\n",
    "B = V1/(N1*A)"
   ]
  },
  {
   "cell_type": "code",
   "execution_count": null,
   "id": "32f3c4af-3e80-47b9-8369-1441833b5004",
   "metadata": {},
   "outputs": [],
   "source": [
    "# Turn current data into the magnetic field strength: \n",
    "N = 1\n"
   ]
  }
 ],
 "metadata": {
  "kernelspec": {
   "display_name": "FloConda",
   "language": "python",
   "name": "floconda"
  },
  "language_info": {
   "codemirror_mode": {
    "name": "ipython",
    "version": 3
   },
   "file_extension": ".py",
   "mimetype": "text/x-python",
   "name": "python",
   "nbconvert_exporter": "python",
   "pygments_lexer": "ipython3",
   "version": "3.8.20"
  }
 },
 "nbformat": 4,
 "nbformat_minor": 5
}
