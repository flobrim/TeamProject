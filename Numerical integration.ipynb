{
 "cells": [
  {
   "cell_type": "markdown",
   "id": "2a721506-ab30-4bb2-8c7f-49f43d7f67b3",
   "metadata": {},
   "source": [
    "# Plan for code: \n",
    "\n",
    "1) Read in Current data from picoscope\n",
    "2) Read in voltage data from picoscope\n",
    "3) Integrate voltage data\n",
    "4) Scale the current data to achieve magnetic filed intensity: H = NI/L\n",
    "5) Scale the voltage data to achieve magnetic field strength: B = (integral of voltage)/NA\n",
    "6) Plot a graph of B against H\n",
    "7) Calculate the area between this curve. This will be the total core loss.\n",
    "8) Subtract the total core losses from the 50Hz data from other core loss data to achieve eddy current loss for the higher frequencies."
   ]
  },
  {
   "cell_type": "code",
   "execution_count": null,
   "id": "6fe70bfc-79f8-4508-a8f2-fbb3114c7077",
   "metadata": {},
   "outputs": [],
   "source": []
  }
 ],
 "metadata": {
  "kernelspec": {
   "display_name": "FloConda",
   "language": "python",
   "name": "floconda"
  },
  "language_info": {
   "codemirror_mode": {
    "name": "ipython",
    "version": 3
   },
   "file_extension": ".py",
   "mimetype": "text/x-python",
   "name": "python",
   "nbconvert_exporter": "python",
   "pygments_lexer": "ipython3",
   "version": "3.8.20"
  }
 },
 "nbformat": 4,
 "nbformat_minor": 5
}
